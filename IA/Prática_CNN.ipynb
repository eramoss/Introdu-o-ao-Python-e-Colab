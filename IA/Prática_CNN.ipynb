{
  "cells": [
    {
      "cell_type": "markdown",
      "metadata": {
        "id": "view-in-github",
        "colab_type": "text"
      },
      "source": [
        "<a href=\"https://colab.research.google.com/github/VielF/ColabProjects/blob/main/Pr%C3%A1tica_CNN.ipynb\" target=\"_parent\"><img src=\"https://colab.research.google.com/assets/colab-badge.svg\" alt=\"Open In Colab\"/></a>"
      ]
    },
    {
      "cell_type": "markdown",
      "metadata": {
        "id": "Mnqej4-cvub-"
      },
      "source": [
        "Universidade do Vale do Itajaí<br>\n",
        "Escola do Mar, Ciência e Tecnologia<br>\n",
        "Engenharia de Computação - Processamento Digital de Sinais: Imagens\n",
        "\n",
        "# Exercício Avalitivo de Redes Neurais Convolucionais\n",
        "\n",
        "### Tutoriais da OpenCV\n",
        "\n",
        "- https://docs.opencv.org/master/d9/df8/tutorial_root.html\n",
        "- https://www.geeksforgeeks.org/opencv-python-tutorial/\n",
        "- https://www.tensorflow.org/learn?hl=pt-br   "
      ]
    },
    {
      "cell_type": "code",
      "execution_count": null,
      "metadata": {
        "id": "H5tkM20evucG"
      },
      "outputs": [],
      "source": [
        "import cv2\n",
        "import numpy as np\n",
        "import matplotlib.pyplot as plt\n",
        "#from google.colab.patches import cv2_imshow\n"
      ]
    },
    {
      "cell_type": "code",
      "execution_count": null,
      "metadata": {
        "id": "5x318G0rvucI"
      },
      "outputs": [],
      "source": [
        "#abria a imagem\n",
        "img = cv2.imread('data/t1.jpg',1)\n",
        "#cv2_imshow(img)"
      ]
    },
    {
      "cell_type": "code",
      "execution_count": null,
      "metadata": {
        "id": "RE0Vq0_wvucJ"
      },
      "outputs": [],
      "source": [
        "#mostrando a imagem colorida\n",
        "cv2.imshow('in', img)\n",
        "cv2.waitKey(0)\n",
        "cv2.destroyAllWindows()"
      ]
    },
    {
      "cell_type": "code",
      "execution_count": null,
      "metadata": {
        "id": "dD63IP-4vucJ"
      },
      "outputs": [],
      "source": [
        "#aplicando conversão básica\n",
        "#numpy\n",
        "#img_grayscale_basic = (img[ : , : ,0]+img[ : , : ,1]+img[ : , : ,2])/3\n",
        "\n",
        "#cv2\n",
        "B, G, R = cv2.split(img)\n",
        "img_grayscale_basic = (B+G+R)/3\n",
        "\n",
        "img_grayscale_basic = np.array(img_grayscale_basic, dtype=np.uint8)\n",
        "\n",
        "cv2.imshow('img_grayscale_basic', img_grayscale_basic)\n",
        "cv2.waitKey(0)\n",
        "cv2.destroyAllWindows()"
      ]
    },
    {
      "cell_type": "markdown",
      "metadata": {
        "id": "DVs5kzkXvucM"
      },
      "source": [
        "## CNN\n"
      ]
    },
    {
      "cell_type": "markdown",
      "metadata": {
        "id": "POOYgwPAvucO"
      },
      "source": [
        "### Dataset\n",
        "\n",
        "1. Faça o download do dataset:\n",
        "  - Opção 1: https://www.tensorflow.org/datasets/catalog/cifar10_corrupted?hl=pt-br (uma das opções de corrompimento).\n",
        "  - Opção 2: https://www.tensorflow.org/datasets/catalog/rock_paper_scissors?hl=pt-br.\n",
        "  - Opção 3: https://www.tensorflow.org/datasets/catalog/beans?hl=pt-br \n",
        "  - Opção 4: https://www.tensorflow.org/datasets/catalog/malaria?hl=pt-br \n",
        "  - Opção 5: https://www.tensorflow.org/datasets/catalog/eurosat?hl=pt-br\n",
        "2. Adicione ruído do tipo salt and pepper, branco ou gaussino. Caso escolha a Opção 1, não é necessário aplicar ruído.\n",
        "3. Dimensione o dataset para uma quantidade adequada de imagens que seja possível treinar e testar (principalmente se você usa o Colab free). Porém, cuidado com um quantidade muito pequena que não possibilite uma boa generalização de amostras.\n",
        "4. Faça o split do dataset em uma quantidade adequada para treinamento, validação e teste. É extremamente desejavel um nível bom de aleatoriedade ao fazer o split dos dados.\n"
      ]
    },
    {
      "cell_type": "code",
      "execution_count": null,
      "metadata": {
        "id": "skhC_OlRvucP"
      },
      "outputs": [],
      "source": []
    },
    {
      "cell_type": "markdown",
      "metadata": {
        "id": "An3p-_oBvucP"
      },
      "source": [
        "### Fluxo de Algoritmos\n",
        "\n",
        "1. Pré-processamento: Com o dataset carregado, avalie as imagens (estado, ruído, informação contida) e adicione algoritmos vistos em aula (operações pontuais, filtragem, morfologia) e pré-processe as imagens para treinamento e predição (com o conjunto de testes). Lembre-se de aplicar o fluxo em todas as imagens.\n",
        "  - Você deve aplicar pelo menos um algoritmo de filtragem espacial. A sua avaliação indicará qual é necessário.\n",
        "  - Você deve aplicar pelo menos um algoritmo de operação pontual e/ou morfologia. Lembre-se que a sua avaliação indicará qual é necessário.\n",
        "\n",
        "2. Processamento: Proponha uma arquitetura de CNN para classificar as imagens geradas pelo pré-processamento. Apresente a arquitetura proposta, acurácia e loss (perda) (treinamento, validação e teste) e quantidade de parâmentros da rede. Faça uma análise do resultados e do fluxo utilizado. Quais as suas conclusões?"
      ]
    },
    {
      "cell_type": "code",
      "execution_count": null,
      "metadata": {
        "id": "_6L5DFnovucQ"
      },
      "outputs": [],
      "source": []
    },
    {
      "cell_type": "markdown",
      "source": [
        "## Melhorias\n",
        "\n",
        "1. Propanha alterações no fluxo de pré-processamento e processamento: inserção ou retirada de algoritmos, aumento/diminuição da arquiteura proposta, tunning de hiperparâmetros, data augmentation, etc. Você pode adicionar técnicas além das citadas em aula.\n",
        "\n",
        "2. Houve melhoria da acurácia? Procure outra métrica da literatura e aplique para avaliar o quão bom é a classificação. Os resultados apresentados pelas duas métricas é ruim/satisfatório/bom/ótimo? Comente e análise os seus resutaldos."
      ],
      "metadata": {
        "id": "FeQTe7QZ2TLc"
      }
    },
    {
      "cell_type": "code",
      "execution_count": null,
      "metadata": {
        "id": "7fzrhcuZvucQ"
      },
      "outputs": [],
      "source": []
    },
    {
      "cell_type": "markdown",
      "source": [
        "## (OPCIONAL) \n",
        "\n",
        "1. Apresente as características importantes extraídas pelas camadas/CNN e aplique alguma pós-processamento (notificação de mensagem, envio de email, etc...). "
      ],
      "metadata": {
        "id": "Ujr9NsXe3M1d"
      }
    }
  ],
  "metadata": {
    "kernelspec": {
      "display_name": "Python 3",
      "language": "python",
      "name": "python3"
    },
    "language_info": {
      "codemirror_mode": {
        "name": "ipython",
        "version": 3
      },
      "file_extension": ".py",
      "mimetype": "text/x-python",
      "name": "python",
      "nbconvert_exporter": "python",
      "pygments_lexer": "ipython3",
      "version": "3.8.5"
    },
    "colab": {
      "provenance": [],
      "collapsed_sections": [],
      "include_colab_link": true
    }
  },
  "nbformat": 4,
  "nbformat_minor": 0
}